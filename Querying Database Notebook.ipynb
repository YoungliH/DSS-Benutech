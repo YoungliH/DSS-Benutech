{
 "cells": [
  {
   "cell_type": "markdown",
   "metadata": {},
   "source": [
    "# Query database over an SSH tunnel\n",
    "Blog post related to this notebook is here:\n",
    "https://medium.com/@amirziai/query-your-database-over-an-ssh-tunnel-with-pandas-603ce49b35a1#.4dzdcrl48"
   ]
  },
  {
   "cell_type": "markdown",
   "metadata": {},
   "source": [
    "## SSH and database information"
   ]
  },
  {
   "cell_type": "code",
   "execution_count": 3,
   "metadata": {},
   "outputs": [],
   "source": [
    "# ssh variables\n",
    "host = '199.87.187.72'\n",
    "localhost = '127.0.0.1'\n",
    "ssh_username = 'tunnel'\n",
    "ssh_password = 'paleocake'"
   ]
  },
  {
   "cell_type": "code",
   "execution_count": 21,
   "metadata": {},
   "outputs": [],
   "source": [
    "# database variables\n",
    "user='alina'\n",
    "password='alinarocks'\n"
   ]
  },
  {
   "cell_type": "markdown",
   "metadata": {},
   "source": [
    "## Install sshtunnel"
   ]
  },
  {
   "cell_type": "code",
   "execution_count": 9,
   "metadata": {},
   "outputs": [
    {
     "name": "stdout",
     "output_type": "stream",
     "text": [
      "Requirement already satisfied: sshtunnel in /Library/Frameworks/Python.framework/Versions/3.8/lib/python3.8/site-packages (0.3.1)\n",
      "Requirement already satisfied: paramiko>=1.15.2 in /Library/Frameworks/Python.framework/Versions/3.8/lib/python3.8/site-packages (from sshtunnel) (2.7.2)\n",
      "Requirement already satisfied: pynacl>=1.0.1 in /Library/Frameworks/Python.framework/Versions/3.8/lib/python3.8/site-packages (from paramiko>=1.15.2->sshtunnel) (1.4.0)\n",
      "Requirement already satisfied: bcrypt>=3.1.3 in /Library/Frameworks/Python.framework/Versions/3.8/lib/python3.8/site-packages (from paramiko>=1.15.2->sshtunnel) (3.2.0)\n",
      "Requirement already satisfied: cryptography>=2.5 in /Library/Frameworks/Python.framework/Versions/3.8/lib/python3.8/site-packages (from paramiko>=1.15.2->sshtunnel) (3.2.1)\n",
      "Requirement already satisfied: six in /Library/Frameworks/Python.framework/Versions/3.8/lib/python3.8/site-packages (from pynacl>=1.0.1->paramiko>=1.15.2->sshtunnel) (1.15.0)\n",
      "Requirement already satisfied: cffi>=1.4.1 in /Library/Frameworks/Python.framework/Versions/3.8/lib/python3.8/site-packages (from pynacl>=1.0.1->paramiko>=1.15.2->sshtunnel) (1.14.3)\n",
      "Requirement already satisfied: pycparser in /Library/Frameworks/Python.framework/Versions/3.8/lib/python3.8/site-packages (from cffi>=1.4.1->pynacl>=1.0.1->paramiko>=1.15.2->sshtunnel) (2.20)\n",
      "\u001b[33mWARNING: You are using pip version 20.2.4; however, version 20.3.3 is available.\n",
      "You should consider upgrading via the '/Library/Frameworks/Python.framework/Versions/3.8/bin/python3.8 -m pip install --upgrade pip' command.\u001b[0m\n",
      "Collecting mysqlclient\n",
      "  Downloading mysqlclient-2.0.3.tar.gz (88 kB)\n",
      "\u001b[K     |████████████████████████████████| 88 kB 370 kB/s eta 0:00:01\n",
      "\u001b[?25hBuilding wheels for collected packages: mysqlclient\n",
      "  Building wheel for mysqlclient (setup.py) ... \u001b[?25ldone\n",
      "\u001b[?25h  Created wheel for mysqlclient: filename=mysqlclient-2.0.3-cp38-cp38-macosx_10_9_x86_64.whl size=56306 sha256=9e943d8bf38d495559ed48aaf3eb7fb7cb52f465598a07eeec979c5a425bbef1\n",
      "  Stored in directory: /Users/younglihong/Library/Caches/pip/wheels/3a/c1/c3/5a19639a551c921c2c2b39468f4278ce5aa27b4e386a4158e4\n",
      "Successfully built mysqlclient\n",
      "Installing collected packages: mysqlclient\n",
      "Successfully installed mysqlclient-2.0.3\n",
      "\u001b[33mWARNING: You are using pip version 20.2.4; however, version 20.3.3 is available.\n",
      "You should consider upgrading via the '/Library/Frameworks/Python.framework/Versions/3.8/bin/python3.8 -m pip install --upgrade pip' command.\u001b[0m\n"
     ]
    }
   ],
   "source": [
    "!pip install sshtunnel\n",
    "!pip install mysqlclient"
   ]
  },
  {
   "cell_type": "markdown",
   "metadata": {},
   "source": [
    "## Import packages"
   ]
  },
  {
   "cell_type": "code",
   "execution_count": 10,
   "metadata": {},
   "outputs": [],
   "source": [
    "from sshtunnel import SSHTunnelForwarder\n",
    "import MySQLdb as db\n",
    "import pandas as pd"
   ]
  },
  {
   "cell_type": "markdown",
   "metadata": {},
   "source": [
    "## The query function"
   ]
  },
  {
   "cell_type": "code",
   "execution_count": 22,
   "metadata": {},
   "outputs": [],
   "source": [
    "def query(q, database):\n",
    "    with SSHTunnelForwarder(\n",
    "        (host, 22),\n",
    "        ssh_username=ssh_username,\n",
    "        ssh_password=ssh_password,\n",
    "        remote_bind_address=(localhost, 3306)\n",
    "    ) as server:\n",
    "        conn = db.connect(host=localhost,\n",
    "                               port=server.local_bind_port,\n",
    "                               user=user,\n",
    "                               passwd=password,\n",
    "                               db=database)\n",
    "\n",
    "        return pd.read_sql_query(q, conn)"
   ]
  },
  {
   "cell_type": "markdown",
   "metadata": {},
   "source": [
    "## Query time"
   ]
  },
  {
   "cell_type": "code",
   "execution_count": null,
   "metadata": {},
   "outputs": [],
   "source": [
    "#Fill appropriate state number and fips code for county\n",
    "STATE_NO = ''\n",
    "FIPS_CODE = ''\n",
    "qd = 'select * from deed_'+ STATE_NO +' where FIPS_CODE == ' + FIPS_CODE\n",
    "qo = 'select * from ols_'+ STATE_NO +' where FIPS_CODE == ' + FIPS_CODE\n",
    "qa = 'select * from tax_'+ STATE_NO +' where FIPS_CODE == ' + FIPS_CODE"
   ]
  },
  {
   "cell_type": "code",
   "execution_count": 23,
   "metadata": {},
   "outputs": [],
   "source": [
    "deed_df = query(qd, 'corelogic_deed')\n",
    "ols_df = query(qd, 'corelogic_ols')\n",
    "tax_df = query(qd, 'corelogic_tax')"
   ]
  },
  {
   "cell_type": "code",
   "execution_count": 24,
   "metadata": {},
   "outputs": [
    {
     "data": {
      "text/html": [
       "<div>\n",
       "<style scoped>\n",
       "    .dataframe tbody tr th:only-of-type {\n",
       "        vertical-align: middle;\n",
       "    }\n",
       "\n",
       "    .dataframe tbody tr th {\n",
       "        vertical-align: top;\n",
       "    }\n",
       "\n",
       "    .dataframe thead th {\n",
       "        text-align: right;\n",
       "    }\n",
       "</style>\n",
       "<table border=\"1\" class=\"dataframe\">\n",
       "  <thead>\n",
       "    <tr style=\"text-align: right;\">\n",
       "      <th></th>\n",
       "      <th>FIPS_CODE</th>\n",
       "      <th>APN_PARCEL_NUMBER_UNFORMATTED</th>\n",
       "      <th>APN_SEQUENCE_NUMBER</th>\n",
       "      <th>COMPOSITE_PROPERTY_LINKAGE_KEY</th>\n",
       "      <th>ORIGINAL_APN</th>\n",
       "      <th>TAX_ACCOUNT_NUMBER</th>\n",
       "      <th>ONLINE_FORMATTED_PARCEL_ID</th>\n",
       "      <th>COMPOSITE_TRANSACTION_ID</th>\n",
       "      <th>TRANSACTION_BATCH_DATE</th>\n",
       "      <th>TRANSACTION_BATCH_SEQUENCE_NUMBER</th>\n",
       "      <th>...</th>\n",
       "      <th>PRINCIPAL_1_FULL_NAME</th>\n",
       "      <th>PRINCIPAL_1_LAST_NAME</th>\n",
       "      <th>PRINCIPAL_1_FIRST_NAME</th>\n",
       "      <th>PRINCIPAL_1_MIDDLE_INITIAL</th>\n",
       "      <th>PRINCIPAL_1_TITLE_</th>\n",
       "      <th>PRINCIPAL_2_FULL_NAME</th>\n",
       "      <th>PRINCIPAL_2_LAST_NAME</th>\n",
       "      <th>PRINCIPAL_2_FIRST_NAME</th>\n",
       "      <th>PRINCIPAL_2_MIDDLE_INITIAL</th>\n",
       "      <th>PRINCIPAL_2_TITLE</th>\n",
       "    </tr>\n",
       "  </thead>\n",
       "  <tbody>\n",
       "    <tr>\n",
       "      <th>0</th>\n",
       "      <td>5001</td>\n",
       "      <td>00100154000</td>\n",
       "      <td>1</td>\n",
       "      <td>0500100100154000                              ...</td>\n",
       "      <td>001-00154-000</td>\n",
       "      <td></td>\n",
       "      <td>001-00154-000</td>\n",
       "      <td>050011930010100001000</td>\n",
       "      <td>1930-01-01</td>\n",
       "      <td>1</td>\n",
       "      <td>...</td>\n",
       "      <td></td>\n",
       "      <td></td>\n",
       "      <td></td>\n",
       "      <td></td>\n",
       "      <td></td>\n",
       "      <td></td>\n",
       "      <td></td>\n",
       "      <td></td>\n",
       "      <td></td>\n",
       "      <td></td>\n",
       "    </tr>\n",
       "    <tr>\n",
       "      <th>1</th>\n",
       "      <td>5001</td>\n",
       "      <td></td>\n",
       "      <td>0</td>\n",
       "      <td></td>\n",
       "      <td></td>\n",
       "      <td></td>\n",
       "      <td></td>\n",
       "      <td>050011930010100003000</td>\n",
       "      <td>1930-01-01</td>\n",
       "      <td>3</td>\n",
       "      <td>...</td>\n",
       "      <td></td>\n",
       "      <td></td>\n",
       "      <td></td>\n",
       "      <td></td>\n",
       "      <td></td>\n",
       "      <td></td>\n",
       "      <td></td>\n",
       "      <td></td>\n",
       "      <td></td>\n",
       "      <td></td>\n",
       "    </tr>\n",
       "    <tr>\n",
       "      <th>2</th>\n",
       "      <td>5001</td>\n",
       "      <td>00100127000</td>\n",
       "      <td>1</td>\n",
       "      <td>0500100100127000                              ...</td>\n",
       "      <td>001-00127-000</td>\n",
       "      <td></td>\n",
       "      <td>001-00127-000</td>\n",
       "      <td>050011930010100004000</td>\n",
       "      <td>1930-01-01</td>\n",
       "      <td>4</td>\n",
       "      <td>...</td>\n",
       "      <td></td>\n",
       "      <td></td>\n",
       "      <td></td>\n",
       "      <td></td>\n",
       "      <td></td>\n",
       "      <td></td>\n",
       "      <td></td>\n",
       "      <td></td>\n",
       "      <td></td>\n",
       "      <td></td>\n",
       "    </tr>\n",
       "    <tr>\n",
       "      <th>3</th>\n",
       "      <td>5001</td>\n",
       "      <td></td>\n",
       "      <td>0</td>\n",
       "      <td></td>\n",
       "      <td></td>\n",
       "      <td></td>\n",
       "      <td></td>\n",
       "      <td>050011930010100005000</td>\n",
       "      <td>1930-01-01</td>\n",
       "      <td>5</td>\n",
       "      <td>...</td>\n",
       "      <td></td>\n",
       "      <td></td>\n",
       "      <td></td>\n",
       "      <td></td>\n",
       "      <td></td>\n",
       "      <td></td>\n",
       "      <td></td>\n",
       "      <td></td>\n",
       "      <td></td>\n",
       "      <td></td>\n",
       "    </tr>\n",
       "    <tr>\n",
       "      <th>4</th>\n",
       "      <td>5001</td>\n",
       "      <td></td>\n",
       "      <td>0</td>\n",
       "      <td></td>\n",
       "      <td></td>\n",
       "      <td></td>\n",
       "      <td></td>\n",
       "      <td>050011930010100006000</td>\n",
       "      <td>1930-01-01</td>\n",
       "      <td>6</td>\n",
       "      <td>...</td>\n",
       "      <td></td>\n",
       "      <td></td>\n",
       "      <td></td>\n",
       "      <td></td>\n",
       "      <td></td>\n",
       "      <td></td>\n",
       "      <td></td>\n",
       "      <td></td>\n",
       "      <td></td>\n",
       "      <td></td>\n",
       "    </tr>\n",
       "  </tbody>\n",
       "</table>\n",
       "<p>5 rows × 160 columns</p>\n",
       "</div>"
      ],
      "text/plain": [
       "   FIPS_CODE APN_PARCEL_NUMBER_UNFORMATTED  APN_SEQUENCE_NUMBER  \\\n",
       "0       5001                   00100154000                    1   \n",
       "1       5001                                                  0   \n",
       "2       5001                   00100127000                    1   \n",
       "3       5001                                                  0   \n",
       "4       5001                                                  0   \n",
       "\n",
       "                      COMPOSITE_PROPERTY_LINKAGE_KEY   ORIGINAL_APN  \\\n",
       "0  0500100100154000                              ...  001-00154-000   \n",
       "1                                                                     \n",
       "2  0500100100127000                              ...  001-00127-000   \n",
       "3                                                                     \n",
       "4                                                                     \n",
       "\n",
       "  TAX_ACCOUNT_NUMBER ONLINE_FORMATTED_PARCEL_ID COMPOSITE_TRANSACTION_ID  \\\n",
       "0                                 001-00154-000    050011930010100001000   \n",
       "1                                                  050011930010100003000   \n",
       "2                                 001-00127-000    050011930010100004000   \n",
       "3                                                  050011930010100005000   \n",
       "4                                                  050011930010100006000   \n",
       "\n",
       "  TRANSACTION_BATCH_DATE  TRANSACTION_BATCH_SEQUENCE_NUMBER  ...  \\\n",
       "0             1930-01-01                                  1  ...   \n",
       "1             1930-01-01                                  3  ...   \n",
       "2             1930-01-01                                  4  ...   \n",
       "3             1930-01-01                                  5  ...   \n",
       "4             1930-01-01                                  6  ...   \n",
       "\n",
       "   PRINCIPAL_1_FULL_NAME PRINCIPAL_1_LAST_NAME PRINCIPAL_1_FIRST_NAME  \\\n",
       "0                                                                       \n",
       "1                                                                       \n",
       "2                                                                       \n",
       "3                                                                       \n",
       "4                                                                       \n",
       "\n",
       "  PRINCIPAL_1_MIDDLE_INITIAL PRINCIPAL_1_TITLE_ PRINCIPAL_2_FULL_NAME  \\\n",
       "0                                                                       \n",
       "1                                                                       \n",
       "2                                                                       \n",
       "3                                                                       \n",
       "4                                                                       \n",
       "\n",
       "  PRINCIPAL_2_LAST_NAME PRINCIPAL_2_FIRST_NAME PRINCIPAL_2_MIDDLE_INITIAL  \\\n",
       "0                                                                           \n",
       "1                                                                           \n",
       "2                                                                           \n",
       "3                                                                           \n",
       "4                                                                           \n",
       "\n",
       "  PRINCIPAL_2_TITLE  \n",
       "0                    \n",
       "1                    \n",
       "2                    \n",
       "3                    \n",
       "4                    \n",
       "\n",
       "[5 rows x 160 columns]"
      ]
     },
     "execution_count": 24,
     "metadata": {},
     "output_type": "execute_result"
    }
   ],
   "source": [
    "deed_df.head()"
   ]
  },
  {
   "cell_type": "code",
   "execution_count": null,
   "metadata": {},
   "outputs": [],
   "source": [
    "ols_df.head()"
   ]
  },
  {
   "cell_type": "code",
   "execution_count": null,
   "metadata": {},
   "outputs": [],
   "source": [
    "tax_df.head()"
   ]
  },
  {
   "cell_type": "code",
   "execution_count": null,
   "metadata": {},
   "outputs": [],
   "source": [
    "#Fill county name\n",
    "county_name = ''\n",
    "name_deed= 'deed_'+ STATE_NO + '_' + county_name + '.csv'\n",
    "name_ols= 'ols_'+ STATE_NO + '_' + county_name + '.csv'\n",
    "name_tax= 'tax_'+ STATE_NO + '_' + county_name + '.csv'"
   ]
  },
  {
   "cell_type": "code",
   "execution_count": null,
   "metadata": {},
   "outputs": [],
   "source": [
    "deed_df.to_csv(name_deed)\n",
    "ols_df.to_csv(name_ols)\n",
    "tax_df.to_csv(name_tax)"
   ]
  }
 ],
 "metadata": {
  "kernelspec": {
   "display_name": "Python 3",
   "language": "python",
   "name": "python3"
  },
  "language_info": {
   "codemirror_mode": {
    "name": "ipython",
    "version": 3
   },
   "file_extension": ".py",
   "mimetype": "text/x-python",
   "name": "python",
   "nbconvert_exporter": "python",
   "pygments_lexer": "ipython3",
   "version": "3.8.4"
  }
 },
 "nbformat": 4,
 "nbformat_minor": 4
}
