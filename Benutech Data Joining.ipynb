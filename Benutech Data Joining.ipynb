{
 "cells": [
  {
   "cell_type": "markdown",
   "metadata": {},
   "source": [
    "# Benutech Data Joining"
   ]
  },
  {
   "cell_type": "code",
   "execution_count": 1,
   "metadata": {},
   "outputs": [],
   "source": [
    "import numpy as np\n",
    "import pandas as pd\n",
    "from datetime import datetime"
   ]
  },
  {
   "cell_type": "markdown",
   "metadata": {},
   "source": [
    "Fill in the dataset names saved from the querying notebook below"
   ]
  },
  {
   "cell_type": "code",
   "execution_count": 1,
   "metadata": {},
   "outputs": [],
   "source": [
    "deed_name = ''\n",
    "ols_name = ''\n",
    "tax_name = ''"
   ]
  },
  {
   "cell_type": "markdown",
   "metadata": {},
   "source": [
    "Select columns from deed, ols, tax that'll be used as features"
   ]
  },
  {
   "cell_type": "code",
   "execution_count": 2,
   "metadata": {},
   "outputs": [],
   "source": [
    "deed_cols = ['COMPOSITE_PROPERTY_LINKAGE_KEY', 'COMPOSITE_TRANSACTION_ID','PROPERTY_INDICATOR_CODE',\n",
    "                        'DEED_CATEGORY_TYPE', 'SALE_DATE', 'SALE_AMOUNT']\n",
    "ols_cols = ['COMPOSITE_PROPERTY_LINKAGE_KEY','PURCHASE_AMOUNT','PURCHASE_COMBINED_LTV','ESTIMATED_EQUITY']\n",
    "tax_cols = ['COMPOSITE_PROPERTY_LINKAGE_KEY', 'TOTAL_VALUE_CALCULATED', 'BEDROOMS', 'TOTAL_BATHROOMS_CALCULATED' ]\n"
   ]
  },
  {
   "cell_type": "markdown",
   "metadata": {},
   "source": [
    "Some cleaning\n",
    "1. Load dataframes with selected columns\n",
    "2. Remove null dates in deed's sale dates, composite linkage keys, and property indicators. \n",
    "3. Sort deed by composite linkage keys and sale dates\n",
    "4. Convert date column to datetime\n",
    "5. Add a dummy column for censored properties. Censor = 0 -> property hasn't undergone a title change yet"
   ]
  },
  {
   "cell_type": "code",
   "execution_count": 3,
   "metadata": {},
   "outputs": [],
   "source": [
    "deed = pd.read_csv(deed_name,usecols=deed_cols, low_memory=False)\n",
    "deed = deed.loc[deed['SALE_DATE'] != '0000-00-00']\n",
    "deed.sort_values(by = ['COMPOSITE_PROPERTY_LINKAGE_KEY', 'SALE_DATE'], inplace = True)\n",
    "deed.dropna(subset=['COMPOSITE_PROPERTY_LINKAGE_KEY', 'PROPERTY_INDICATOR_CODE'], inplace=True)\n",
    "deed[\"censor\"] = 1\n",
    "deed = deed[pd.to_datetime(deed['SALE_DATE'], errors='coerce').notna()]\n",
    "deed['SALE_DATE'] = pd.to_datetime(deed['SALE_DATE'])\n",
    "\n",
    "ols = pd.read_csv(ols_name,usecols=ols_cols, low_memory = False)\n",
    "ols.dropna(subset=['COMPOSITE_PROPERTY_LINKAGE_KEY'], inplace=True)\n",
    "\n",
    "\n",
    "tax = pd.read_csv(tax_name, usecols=tax_cols, low_memory = False)\n"
   ]
  },
  {
   "cell_type": "markdown",
   "metadata": {},
   "source": [
    "Making labels for model and feature engineering"
   ]
  },
  {
   "cell_type": "code",
   "execution_count": 4,
   "metadata": {},
   "outputs": [],
   "source": [
    "def get_targets(df):\n",
    "    \"\"\"a function that create censor (title change) and label(time that a property took to go through title changes)\n",
    "    df: a deed df\n",
    "    \n",
    "    return two dictionaries, one that maps unique transaction ids to the time until the next title change or time until\n",
    "    present if a title change hasn't occurred. The other dictionary contains the transaction ids mapping to an indicator\n",
    "    of a title change or not ie the censor column.\n",
    "    \"\"\"\n",
    "    \n",
    "    # a dictionary of {property key: an array of timestamps of Sale Date\n",
    "    deed_dates = df\n",
    "    ids = {}\n",
    "    dates = {}\n",
    "    for idx, row in deed_dates.iterrows():\n",
    "        key = row.COMPOSITE_PROPERTY_LINKAGE_KEY\n",
    "        if key not in dates.keys():\n",
    "            ids[key] = [row.COMPOSITE_TRANSACTION_ID]\n",
    "            dates[key] = [row.SALE_DATE]\n",
    "        else:\n",
    "            ids[key].append( row.COMPOSITE_TRANSACTION_ID)\n",
    "            dates[key].append(row.SALE_DATE )\n",
    "    # a dictionary of {proporty key: an array of difference in Sale Date}\n",
    "    diff_dict = {}\n",
    "    c_ids = []\n",
    "    for key in list(dates.keys()):\n",
    "        date_list = dates[key] #all the sale dates of that property\n",
    "        id_list = ids[key]\n",
    "        if(len(date_list) > 1):\n",
    "            for i in range(len(date_list)-1):\n",
    "                current = date_list[i]\n",
    "                next_d = date_list[i+1]\n",
    "                diff = next_d - current\n",
    "                diff_dict[id_list[i]] = diff\n",
    "        last_d = pd.to_datetime(\"today\") - date_list[-1]\n",
    "        diff_dict[id_list[-1]] = last_d\n",
    "        c_ids.append(id_list[-1])\n",
    "    return diff_dict, c_ids\n"
   ]
  },
  {
   "cell_type": "markdown",
   "metadata": {},
   "source": [
    "Use the helper function to get the labels, convert days to a float. Everything is done in deed since it contains unique transaction ids"
   ]
  },
  {
   "cell_type": "code",
   "execution_count": 5,
   "metadata": {},
   "outputs": [],
   "source": [
    "diff_dict, c_ids = get_targets(deed)\n",
    "deed['date_difference'] = deed['COMPOSITE_TRANSACTION_ID'].map(diff_dict)\n",
    "deed['date_difference'] = deed['date_difference'] / pd.to_timedelta(1, unit='D')"
   ]
  },
  {
   "cell_type": "markdown",
   "metadata": {},
   "source": [
    "Use the censor dictionary to create the censor column"
   ]
  },
  {
   "cell_type": "code",
   "execution_count": 6,
   "metadata": {},
   "outputs": [],
   "source": [
    "deed.set_index('COMPOSITE_TRANSACTION_ID', inplace=True)\n",
    "for i in c_ids:\n",
    "  deed.at[i, 'censor'] = 0\n",
    "deed.reset_index(inplace=True)"
   ]
  },
  {
   "cell_type": "markdown",
   "metadata": {},
   "source": [
    "Joining\n",
    "1. Left join all the dataframes on deed\n",
    "2. Remove nulls in ols, select arms length transfers by looking at deed category type for grant and foreclosure deeds"
   ]
  },
  {
   "cell_type": "code",
   "execution_count": 7,
   "metadata": {},
   "outputs": [],
   "source": [
    "deed_ols = deed.join(ols.set_index('COMPOSITE_PROPERTY_LINKAGE_KEY'), on = 'COMPOSITE_PROPERTY_LINKAGE_KEY', how='left')\n",
    "full_df = deed_ols.join(tax.set_index('COMPOSITE_PROPERTY_LINKAGE_KEY'), on = 'COMPOSITE_PROPERTY_LINKAGE_KEY', how='left')\n",
    "full_df.dropna(subset=['PURCHASE_AMOUNT', 'ESTIMATED_EQUITY'], inplace=True)\n",
    "full_df = full_df.loc[full_df['DEED_CATEGORY_TYPE'].isin(['G', 'U'])]\n",
    "full_df = full_df.loc[full_df.date_difference != 0]"
   ]
  },
  {
   "cell_type": "markdown",
   "metadata": {},
   "source": [
    "Saving"
   ]
  },
  {
   "cell_type": "code",
   "execution_count": 8,
   "metadata": {},
   "outputs": [],
   "source": [
    "full_df.to_csv('county_full_df.csv')"
   ]
  }
 ],
 "metadata": {
  "kernelspec": {
   "display_name": "Python 3",
   "language": "python",
   "name": "python3"
  },
  "language_info": {
   "codemirror_mode": {
    "name": "ipython",
    "version": 3
   },
   "file_extension": ".py",
   "mimetype": "text/x-python",
   "name": "python",
   "nbconvert_exporter": "python",
   "pygments_lexer": "ipython3",
   "version": "3.8.4"
  }
 },
 "nbformat": 4,
 "nbformat_minor": 4
}
